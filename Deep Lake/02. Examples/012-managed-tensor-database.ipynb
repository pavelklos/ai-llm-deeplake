{
 "cells": [
  {
   "cell_type": "markdown",
   "id": "93495a2e-3e04-4cb8-81d7-a00f9dc0b4f4",
   "metadata": {},
   "source": [
    "# EXAMPLES (RAG)\n",
    "- [RAG](https://docs.activeloop.ai/examples/rag)\n",
    "  - [RAG Quickstart](https://docs.activeloop.ai/examples/rag/quickstart)\n",
    "  - [RAG Tutorials](https://docs.activeloop.ai/examples/rag/tutorials)\n",
    "    - [Vector Store Basics](https://docs.activeloop.ai/examples/rag/tutorials/vector-store-basics)\n",
    "    - [Vector Search Options](https://docs.activeloop.ai/examples/rag/tutorials/vector-search-options)\n",
    "      - [LangChain API](https://docs.activeloop.ai/examples/rag/tutorials/vector-search-options/langchain-api)\n",
    "      - [Deep Lake Vector Store API](https://docs.activeloop.ai/examples/rag/tutorials/vector-search-options/vector-store-api)\n",
    "      - [Managed Database REST API](https://docs.activeloop.ai/examples/rag/tutorials/vector-search-options/rest-api)\n",
    "    - [Customizing Your Vector Store](https://docs.activeloop.ai/examples/rag/tutorials/step-4-customizing-vector-stores)\n",
    "    - [Image Similarity Search](https://docs.activeloop.ai/examples/rag/tutorials/image-similarity-search)\n",
    "    - [Improving Search Accuracy using Deep Memory](https://docs.activeloop.ai/examples/rag/tutorials/deepmemory)\n",
    "  - [LangChain Integration](https://docs.activeloop.ai/examples/rag/langchain-integration)\n",
    "  - [LlamaIndex Integration](https://docs.activeloop.ai/examples/rag/llamaindex-integration)\n",
    "  - [**Managed Tensor Database**](https://docs.activeloop.ai/examples/rag/managed-database)\n",
    "    - [**REST API**](https://docs.activeloop.ai/examples/rag/managed-database/rest-api)\n",
    "    - [**Migrating Datasets to the Tensor Database**](https://docs.activeloop.ai/examples/rag/managed-database/migrating-datasets-to-the-tensor-database)\n",
    "  - [Deep Memory](https://docs.activeloop.ai/examples/rag/deep-memory)\n",
    "    - [How it Works](https://docs.activeloop.ai/examples/rag/deep-memory/how-it-works)"
   ]
  },
  {
   "cell_type": "markdown",
   "id": "f9134e12-66df-4b48-915d-a3b9f5e1c550",
   "metadata": {},
   "source": [
    "## RAG (Managed Tensor Database)"
   ]
  },
  {
   "cell_type": "markdown",
   "id": "f290e7d6-996b-498e-bce4-2b2defeaafc3",
   "metadata": {},
   "source": [
    "### Overview of Deep Lake's Managed Tensor Database\n",
    "- *Deep Lake offers a serverless Managed Tensor Database that eliminates the complexity of self-hosting and substantially lowers costs. Currently, it only supports dataset queries, including vector search, but additional features for creating and modifying data being added in December 2023.*<br>\n",
    "- *Comparison of Deep Lake as a Managed Database vs Embedded Database*<br>\n",
    "[DeepLake (Embedded vs Managed)](https://docs.activeloop.ai/~gitbook/image?url=https%3A%2F%2Fcontent.gitbook.com%2Fcontent%2FWOs95B2h3lcO4dwXDRJ3%2Fblobs%2FK3tTkpXoP4wBU4GBgBsc%2FDeep_Lake_Embedded_vs_Managed.png&width=400&dpr=3&quality=100&sign=df2cb5c0&sv=2)"
   ]
  },
  {
   "cell_type": "markdown",
   "id": "bd2f884e-e9f3-464e-b074-e20726b3d311",
   "metadata": {},
   "source": [
    "#### User Interfaces\n",
    "**LangChain and LlamaIndex**"
   ]
  },
  {
   "cell_type": "code",
   "execution_count": 1,
   "id": "61795465-e2c9-4fa6-bed9-af4ab9b32348",
   "metadata": {},
   "outputs": [],
   "source": [
    "# To use the Managed Vector Database in LangChain or Llama Index, specify dataset_path during Vector Store creation.\n",
    "\n",
    "# dataset_path = hub://org_id/dataset_name and runtime = {\"tensor_db\": True}"
   ]
  },
  {
   "cell_type": "markdown",
   "id": "f362a3de-772a-4b04-80c5-bf6ee278a2b3",
   "metadata": {},
   "source": [
    "#### REST API\n",
    "*Standalone REST API is available for interacting with the Managed Database:*<br>\n",
    "[REST API](https://docs.activeloop.ai/examples/rag/managed-database/rest-api)"
   ]
  }
 ],
 "metadata": {
  "kernelspec": {
   "display_name": "Python 3 (ipykernel)",
   "language": "python",
   "name": "python3"
  },
  "language_info": {
   "codemirror_mode": {
    "name": "ipython",
    "version": 3
   },
   "file_extension": ".py",
   "mimetype": "text/x-python",
   "name": "python",
   "nbconvert_exporter": "python",
   "pygments_lexer": "ipython3",
   "version": "3.11.4"
  }
 },
 "nbformat": 4,
 "nbformat_minor": 5
}
