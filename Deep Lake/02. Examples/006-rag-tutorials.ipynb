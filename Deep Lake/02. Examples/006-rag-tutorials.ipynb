{
 "cells": [
  {
   "cell_type": "markdown",
   "id": "93495a2e-3e04-4cb8-81d7-a00f9dc0b4f4",
   "metadata": {},
   "source": [
    "# EXAMPLES (RAG)\n",
    "- [RAG](https://docs.activeloop.ai/examples/rag)\n",
    "  - [RAG Quickstart](https://docs.activeloop.ai/examples/rag/quickstart)\n",
    "  - [RAG Tutorials](https://docs.activeloop.ai/examples/rag/tutorials)\n",
    "    - [Vector Store Basics](https://docs.activeloop.ai/examples/rag/tutorials/vector-store-basics)\n",
    "    - [Vector Search Options](https://docs.activeloop.ai/examples/rag/tutorials/vector-search-options)\n",
    "      - [LangChain API](https://docs.activeloop.ai/examples/rag/tutorials/vector-search-options/langchain-api)\n",
    "      - [Deep Lake Vector Store API](https://docs.activeloop.ai/examples/rag/tutorials/vector-search-options/vector-store-api)\n",
    "      - [**Managed Database REST API**](https://docs.activeloop.ai/examples/rag/tutorials/vector-search-options/rest-api)\n",
    "    - [Customizing Your Vector Store](https://docs.activeloop.ai/examples/rag/tutorials/step-4-customizing-vector-stores)\n",
    "    - [Image Similarity Search](https://docs.activeloop.ai/examples/rag/tutorials/image-similarity-search)\n",
    "    - [Improving Search Accuracy using Deep Memory](https://docs.activeloop.ai/examples/rag/tutorials/deepmemory)\n"
   ]
  },
  {
   "cell_type": "markdown",
   "id": "f9134e12-66df-4b48-915d-a3b9f5e1c550",
   "metadata": {},
   "source": [
    "## RAG Tutorials (Vector Search Options) (Managed Database REST API)"
   ]
  },
  {
   "cell_type": "markdown",
   "id": "b321a80d-955b-45b7-b86b-eaf6e3d65848",
   "metadata": {},
   "source": [
    "### Performing Vector Search Using the REST API"
   ]
  },
  {
   "cell_type": "code",
   "execution_count": 1,
   "id": "92379bb3-eaf9-4d4b-a2cc-f20c348c4a85",
   "metadata": {},
   "outputs": [],
   "source": [
    "# Query this Vector Store stored in the Managed Tensor Database using the REST API. The steps are:\n",
    "# - Define the authentication tokens and search terms\n",
    "# - Embed the search search term using OpenAI\n",
    "# - Reformat the embedding to an embedding_search string that can be passed to the REST API request.\n",
    "# - Create the query string using Deep Lake TQL. The dataset_path and embedding_search are a part of the query string.  \n",
    "# - Submit the request and print the response data data"
   ]
  },
  {
   "cell_type": "code",
   "execution_count": 2,
   "id": "cdad0030-4cc9-46ea-8511-e1d312edf765",
   "metadata": {},
   "outputs": [],
   "source": [
    "import requests\n",
    "import openai\n",
    "import os\n",
    "from dotenv import load_dotenv\n",
    "\n",
    "load_dotenv(override = True)\n",
    "open_api_key = os.getenv('OPENAI_API_KEY')\n",
    "activeloop_token = os.getenv('ACTIVELOOP_TOKEN')\n",
    "\n",
    "MODEL_GPT = 'gpt-4o-mini'"
   ]
  },
  {
   "cell_type": "code",
   "execution_count": 3,
   "id": "66bc56ca-494b-4d6e-8733-79bf023ea2a3",
   "metadata": {},
   "outputs": [],
   "source": [
    "# Tokens should be set in environmental variables.\n",
    "ACTIVELOOP_TOKEN = os.environ['ACTIVELOOP_TOKEN']\n",
    "DATASET_PATH = 'hub://activeloop/twitter-algorithm'\n",
    "ENDPOINT_URL = 'https://app.activeloop.ai/api/query/v1'\n",
    "SEARCH_TERM = 'What do the trust and safety models do?'\n",
    "# os.environ['OPENAI_API_KEY'] OPEN AI TOKEN should also exist in env variables"
   ]
  },
  {
   "cell_type": "code",
   "execution_count": 4,
   "id": "5b20fd42-8272-46d2-ad16-0e347d6fe8a6",
   "metadata": {},
   "outputs": [],
   "source": [
    "# The headers contains the user token\n",
    "headers = {\n",
    "    \"Authorization\": f\"Bearer {ACTIVELOOP_TOKEN}\",\n",
    "}"
   ]
  },
  {
   "cell_type": "code",
   "execution_count": 5,
   "id": "e3af41b0-f9e9-444a-a9a7-3dbf7ec26a17",
   "metadata": {},
   "outputs": [],
   "source": [
    "# Embed the search term\n",
    "\n",
    "# embedding = openai.Embedding.create(input=SEARCH_TERM, model=\"text-embedding-ada-002\")[\"data\"][0][\"embedding\"]\n",
    "embedding = openai.embeddings.create(input=SEARCH_TERM, model=\"text-embedding-ada-002\").data[0].embedding"
   ]
  },
  {
   "cell_type": "code",
   "execution_count": 6,
   "id": "77170d84-b85c-4163-b8fe-424905f56965",
   "metadata": {},
   "outputs": [],
   "source": [
    "# Format the embedding array or list as a string, so it can be passed in the REST API request.\n",
    "embedding_string = \",\".join([str(item) for item in embedding])\n",
    "\n",
    "# Create the query using TQL\n",
    "# query = f\"select * from (select text, cosine_similarity(embedding, ARRAY[{embedding_string}]) as score from \\\"{dataset_path}\\\") order by score desc limit 5\"\n",
    "query = f\"select * from (select text, cosine_similarity(embedding, ARRAY[{embedding_string}]) as score from \\\"{DATASET_PATH}\\\") order by score desc limit 5\"\n",
    "          \n",
    "# Submit the request\n",
    "response = requests.post(ENDPOINT_URL, json={\"query\": query}, headers=headers)\n",
    "\n",
    "data = response.json()"
   ]
  },
  {
   "cell_type": "code",
   "execution_count": 7,
   "id": "6237c105-1701-40e2-a3a4-bca04ac8336e",
   "metadata": {},
   "outputs": [
    {
     "name": "stdout",
     "output_type": "stream",
     "text": [
      "Query successful.\n",
      "['text', 'score']\n"
     ]
    }
   ],
   "source": [
    "# print(data)\n",
    "print(data[\"description\"])\n",
    "print(data[\"tensors\"])\n",
    "# print(data[\"data\"])"
   ]
  },
  {
   "cell_type": "code",
   "execution_count": 8,
   "id": "f5a74cae-9527-4689-8534-6f12cf6ebb0f",
   "metadata": {},
   "outputs": [
    {
     "name": "stdout",
     "output_type": "stream",
     "text": [
      "0.8365592956542969\n"
     ]
    }
   ],
   "source": [
    "print(data[\"data\"][0][\"score\"])"
   ]
  },
  {
   "cell_type": "code",
   "execution_count": 9,
   "id": "08e26fed-c354-478a-be1f-13c9af5f7e76",
   "metadata": {},
   "outputs": [
    {
     "name": "stdout",
     "output_type": "stream",
     "text": [
      "Trust and Safety Models\n",
      "=======================\n",
      "\n",
      "We decided to open source the training code of the following models:\n",
      "- pNSFWMedia: Model to detect tweets with NSFW images. This includes adult and porn content.\n",
      "- pNSFWText: Model to detect tweets with NSFW text, adult/sexual topics.\n",
      "- pToxicity: Model to detect toxic tweets. Toxicity includes marginal content like insults and certain types of harassment. Toxic content does not violate Twitter's terms of service.\n",
      "- pAbuse: Model to detect abusive content. This includes violations of Twitter's terms of service, including hate speech, targeted harassment and abusive behavior.\n",
      "\n",
      "We have several more models and rules that we are not going to open source at this time because of the adversarial nature of this area. The team is considering open sourcing more models going forward and will keep the community posted accordingly.\n"
     ]
    }
   ],
   "source": [
    "print(data[\"data\"][0][\"text\"])"
   ]
  },
  {
   "cell_type": "code",
   "execution_count": 10,
   "id": "5fef7205-3145-472a-88d9-8742fae917e4",
   "metadata": {},
   "outputs": [
    {
     "name": "stdout",
     "output_type": "stream",
     "text": [
      "{'description': 'Query successful.', 'tensors': ['text', 'score'], 'data': [{'text': \"Trust and Safety Models\\n=======================\\n\\nWe decided to open source the training code of the following models:\\n- pNSFWMedia: Model to detect tweets with NSFW images. This includes adult and porn content.\\n- pNSFWText: Model to detect tweets with NSFW text, adult/sexual topics.\\n- pToxicity: Model to detect toxic tweets. Toxicity includes marginal content like insults and certain types of harassment. Toxic content does not violate Twitter's terms of service.\\n- pAbuse: Model to detect abusive content. This includes violations of Twitter's terms of service, including hate speech, targeted harassment and abusive behavior.\\n\\nWe have several more models and rules that we are not going to open source at this time because of the adversarial nature of this area. The team is considering open sourcing more models going forward and will keep the community posted accordingly.\", 'score': 0.8365592956542969}, {'text': 'private lazy val thriftToModelMap: Map[ThriftSafetyLevel, SafetyLevel] = Map(\\n    ThriftSafetyLevel.AccessInternalPromotedContent -> AccessInternalPromotedContent,\\n    ThriftSafetyLevel.AdsBusinessSettings -> AdsBusinessSettings,\\n    ThriftSafetyLevel.AdsCampaign -> AdsCampaign,\\n    ThriftSafetyLevel.AdsManager -> AdsManager,\\n    ThriftSafetyLevel.AdsReportingDashboard -> AdsReportingDashboard,\\n    ThriftSafetyLevel.AllSubscribedLists -> AllSubscribedLists,\\n    ThriftSafetyLevel.Appeals -> Appeals,\\n    ThriftSafetyLevel.ArticleTweetTimeline -> ArticleTweetTimeline,\\n    ThriftSafetyLevel.BaseQig -> BaseQig,\\n    ThriftSafetyLevel.BirdwatchNoteAuthor -> BirdwatchNoteAuthor,\\n    ThriftSafetyLevel.BirdwatchNoteTweetsTimeline -> BirdwatchNoteTweetsTimeline,\\n    ThriftSafetyLevel.BirdwatchNeedsYourHelpNotifications -> BirdwatchNeedsYourHelpNotifications,\\n    ThriftSafetyLevel.BlockMuteUsersTimeline -> BlockMuteUsersTimeline,\\n    ThriftSafetyLevel.BrandSafety -> BrandSafety,\\n    ThriftSafetyLevel.CardPollVoting -> CardPollVoting,\\n    ThriftSafetyLevel.CardsService -> CardsService,\\n    ThriftSafetyLevel.Communities -> Communities,\\n    ThriftSafetyLevel.ContentControlToolInstall -> ContentControlToolInstall,\\n    ThriftSafetyLevel.ConversationFocalPrehydration -> ConversationFocalPrehydration,\\n    ThriftSafetyLevel.ConversationFocalTweet -> ConversationFocalTweet,\\n    ThriftSafetyLevel.ConversationInjectedTweet -> ConversationInjectedTweet,\\n    ThriftSafetyLevel.ConversationReply -> ConversationReply,\\n    ThriftSafetyLevel.CuratedTrendsRepresentativeTweet -> CuratedTrendsRepresentativeTweet,\\n    ThriftSafetyLevel.CurationPolicyViolations -> CurationPolicyViolations,\\n    ThriftSafetyLevel.DevPlatformGetListTweets -> DevPlatformGetListTweets,\\n    ThriftSafetyLevel.DesFollowingAndFollowersUserList -> DesFollowingAndFollowersUserList,\\n    ThriftSafetyLevel.DesHomeTimeline -> DesHomeTimeline,\\n    ThriftSafetyLevel.DesQuoteTweetTimeline -> DesQuoteTweetTimeline,\\n    ThriftSafetyLevel.DesRealtime -> DesRealtime,\\n    ThriftSafetyLevel.DesRealtimeSpamEnrichment -> DesRealtimeSpamEnrichment,\\n    ThriftSafetyLevel.DesRealtimeTweetFilter -> DesRealtimeTweetFilter,\\n    ThriftSafetyLevel.DesRetweetingUsers -> DesRetweetingUsers,\\n    ThriftSafetyLevel.DesTweetDetail -> DesTweetDetail,\\n    ThriftSafetyLevel.DesTweetLikingUsers -> DesTweetLikingUsers,\\n    ThriftSafetyLevel.DesUserBookmarks -> DesUserBookmarks,\\n    ThriftSafetyLevel.DesUserLikedTweets -> DesUserLikedTweets,\\n    ThriftSafetyLevel.DesUserMentions -> DesUserMentions,\\n    ThriftSafetyLevel.DesUserTweets -> DesUserTweets,\\n    ThriftSafetyLevel.DevPlatformComplianceStream -> DevPlatformComplianceStream,\\n    ThriftSafetyLevel.DirectMessages -> DirectMessages,\\n    ThriftSafetyLevel.DirectMessagesConversationList -> DirectMessagesConversationList,\\n    ThriftSafetyLevel.DirectMessagesConversationTimeline -> DirectMessagesConversationTimeline,\\n    ThriftSafetyLevel.DirectMessagesInbox -> DirectMessagesInbox,\\n    ThriftSafetyLevel.DirectMessagesMutedUsers -> DirectMessagesMutedUsers,\\n    ThriftSafetyLevel.DirectMessagesPinned -> DirectMessagesPinned,\\n    ThriftSafetyLevel.DirectMessagesSearch -> DirectMessagesSearch,\\n    ThriftSafetyLevel.EditHistoryTimeline -> EditHistoryTimeline,\\n    ThriftSafetyLevel.ElevatedQuoteTweetTimeline -> ElevatedQuoteTweetTimeline,\\n    ThriftSafetyLevel.EmbeddedTweet -> EmbeddedTweet,\\n    ThriftSafetyLevel.EmbedsPublicInterestNotice -> EmbedsPublicInterestNotice,\\n    ThriftSafetyLevel.EmbedTweetMarkup -> EmbedTweetMarkup,\\n    ThriftSafetyLevel.ExploreRecommendations -> ExploreRecommendations,\\n    ThriftSafetyLevel.WritePathLimitedActionsEnforcement -> WritePathLimitedActionsEnforcement,\\n    ThriftSafetyLevel.FilterAll -> FilterAll,\\n    ThriftSafetyLevel.FilterAllPlaceholder -> FilterAllPlaceholder,\\n    ThriftSafetyLevel.FilterDefault -> FilterDefault,\\n    ThriftSafetyLevel.FilterNone -> FilterNone,\\n    ThriftSafetyLevel.FollowedTopicsTimeline -> FollowedTopicsTimeline,', 'score': 0.7695692777633667}, {'text': 'private lazy val modelToThriftMap: Map[SafetyLevel, ThriftSafetyLevel] =\\n    for ((k, v) <- thriftToModelMap) yield (v, k)', 'score': 0.7662665247917175}, {'text': 'private lazy val thriftToModelMap: Map[s.SpaceSafetyLabelType, SpaceSafetyLabelType] = Map(\\n    s.SpaceSafetyLabelType.DoNotAmplify -> DoNotAmplify,\\n    s.SpaceSafetyLabelType.CoordinatedHarmfulActivityHighRecall -> CoordinatedHarmfulActivityHighRecall,\\n    s.SpaceSafetyLabelType.UntrustedUrl -> UntrustedUrl,\\n    s.SpaceSafetyLabelType.MisleadingHighRecall -> MisleadingHighRecall,\\n    s.SpaceSafetyLabelType.NsfwHighPrecision -> NsfwHighPrecision,\\n    s.SpaceSafetyLabelType.NsfwHighRecall -> NsfwHighRecall,\\n    s.SpaceSafetyLabelType.CivicIntegrityMisinfo -> CivicIntegrityMisinfo,\\n    s.SpaceSafetyLabelType.MedicalMisinfo -> MedicalMisinfo,\\n    s.SpaceSafetyLabelType.GenericMisinfo -> GenericMisinfo,\\n    s.SpaceSafetyLabelType.DmcaWithheld -> DmcaWithheld,\\n    s.SpaceSafetyLabelType.HatefulHighRecall -> HatefulHighRecall,\\n    s.SpaceSafetyLabelType.ViolenceHighRecall -> ViolenceHighRecall,\\n    s.SpaceSafetyLabelType.HighToxicityModelScore -> HighToxicityModelScore,\\n    s.SpaceSafetyLabelType.DeprecatedSpaceSafetyLabel14 -> Deprecated,\\n    s.SpaceSafetyLabelType.DeprecatedSpaceSafetyLabel15 -> Deprecated,\\n    s.SpaceSafetyLabelType.Reserved16 -> Deprecated,\\n    s.SpaceSafetyLabelType.Reserved17 -> Deprecated,\\n    s.SpaceSafetyLabelType.Reserved18 -> Deprecated,\\n    s.SpaceSafetyLabelType.Reserved19 -> Deprecated,\\n    s.SpaceSafetyLabelType.Reserved20 -> Deprecated,\\n    s.SpaceSafetyLabelType.Reserved21 -> Deprecated,\\n    s.SpaceSafetyLabelType.Reserved22 -> Deprecated,\\n    s.SpaceSafetyLabelType.Reserved23 -> Deprecated,\\n    s.SpaceSafetyLabelType.Reserved24 -> Deprecated,\\n    s.SpaceSafetyLabelType.Reserved25 -> Deprecated,\\n  )', 'score': 0.7577966451644897}, {'text': 'In summary, the SALSA Candidate Source provides an account expansion based on the SALSA PYMK algorithm, utilizing a bipartite graph with personalized random walks to identify the most relevant and interesting recommendations for the user.', 'score': 0.7566139698028564}]}\n"
     ]
    }
   ],
   "source": [
    "print(data)"
   ]
  }
 ],
 "metadata": {
  "kernelspec": {
   "display_name": "Python 3 (ipykernel)",
   "language": "python",
   "name": "python3"
  },
  "language_info": {
   "codemirror_mode": {
    "name": "ipython",
    "version": 3
   },
   "file_extension": ".py",
   "mimetype": "text/x-python",
   "name": "python",
   "nbconvert_exporter": "python",
   "pygments_lexer": "ipython3",
   "version": "3.11.4"
  }
 },
 "nbformat": 4,
 "nbformat_minor": 5
}
