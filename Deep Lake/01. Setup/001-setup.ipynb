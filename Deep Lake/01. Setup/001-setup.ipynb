{
 "cells": [
  {
   "cell_type": "markdown",
   "id": "93495a2e-3e04-4cb8-81d7-a00f9dc0b4f4",
   "metadata": {},
   "source": [
    "## SETUP\n",
    "- [Installation](https://docs.activeloop.ai/setup/installation)\n",
    "- [User Authentication](https://docs.activeloop.ai/setup/authentication)\n",
    "- [Storage and Credentials](https://docs.activeloop.ai/setup/storage-and-creds)\n",
    "  - [Storage Options](https://docs.activeloop.ai/setup/storage-and-creds/storage-options)\n",
    "  - [Setting up Deep Lake in Your Cloud](https://docs.activeloop.ai/setup/storage-and-creds/managed-credentials)"
   ]
  },
  {
   "cell_type": "markdown",
   "id": "f9134e12-66df-4b48-915d-a3b9f5e1c550",
   "metadata": {},
   "source": [
    "### Installation"
   ]
  },
  {
   "cell_type": "code",
   "execution_count": 1,
   "id": "572d7b5a-6ede-4b05-85c8-866b18ff3c78",
   "metadata": {},
   "outputs": [],
   "source": [
    "# !pip install deeplake"
   ]
  },
  {
   "cell_type": "markdown",
   "id": "2e086cea-114b-4e3c-bbf2-c513bd4c7b6b",
   "metadata": {},
   "source": [
    "### User Authentication"
   ]
  },
  {
   "cell_type": "code",
   "execution_count": 2,
   "id": "1663bb6d-2268-42ee-93e6-6573cdaa13bb",
   "metadata": {},
   "outputs": [],
   "source": [
    "# Environmental Variable\n",
    "# os.environ['ACTIVELOOP_TOKEN'] = <your_token>\n",
    "\n",
    "# Pass the Token to Individual Methods\n",
    "# ds = deeplake.load('hub://org_name/dataset_name', token = <your_token>)"
   ]
  },
  {
   "cell_type": "markdown",
   "id": "71bf2663-511b-46f4-830c-24557cfead4f",
   "metadata": {},
   "source": [
    "### Storage and Credentials"
   ]
  },
  {
   "cell_type": "code",
   "execution_count": 3,
   "id": "3f6d3d95-306e-477a-9419-39de37010480",
   "metadata": {},
   "outputs": [],
   "source": [
    "# Storage Options\n",
    "\n",
    "# - Local: /local_path\n",
    "# - Deep Lake Storage: hub://org_id/dataset_name\n",
    "# - Deep Lake Managed DB: hub://org_id/dataset_name\n",
    "# - AWS S3: s3://bucket_name/dataset_name\n",
    "# - Microsoft Azure (Gen2 DataLake Only): azure://account_name/container_name/dataset_name\n",
    "# - Google Cloud: gcs://bucket_name/dataset_name"
   ]
  }
 ],
 "metadata": {
  "kernelspec": {
   "display_name": "Python 3 (ipykernel)",
   "language": "python",
   "name": "python3"
  },
  "language_info": {
   "codemirror_mode": {
    "name": "ipython",
    "version": 3
   },
   "file_extension": ".py",
   "mimetype": "text/x-python",
   "name": "python",
   "nbconvert_exporter": "python",
   "pygments_lexer": "ipython3",
   "version": "3.11.4"
  }
 },
 "nbformat": 4,
 "nbformat_minor": 5
}
