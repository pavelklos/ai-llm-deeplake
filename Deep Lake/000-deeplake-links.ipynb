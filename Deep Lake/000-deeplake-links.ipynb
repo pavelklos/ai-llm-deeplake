{
 "cells": [
  {
   "cell_type": "markdown",
   "id": "801ae0c6-75d6-49ba-8d8b-28bca1edd0a9",
   "metadata": {
    "jp-MarkdownHeadingCollapsed": true
   },
   "source": [
    "## Deep Lake Docs"
   ]
  },
  {
   "cell_type": "markdown",
   "id": "fd9cd51b-2560-459d-8801-eb96ea4671f5",
   "metadata": {
    "jp-MarkdownHeadingCollapsed": true
   },
   "source": [
    "https://docs.activeloop.ai/\n",
    "\n",
    "- **Deep Lake Docs**\n",
    "  - **List of ML Datasets** https://datasets.activeloop.ai/docs/ml/datasets/\n",
    "- **SETUP**\n",
    "  - **Installation** https://docs.activeloop.ai/setup/installation\n",
    "  - **User Authentication** https://docs.activeloop.ai/setup/authentication\n",
    "    - https://docs.activeloop.ai/setup/authentication/workload-identities\n",
    "  - **Storage and Credentials**https://docs.activeloop.ai/setup/storage-and-creds\n",
    "    - https://docs.activeloop.ai/setup/storage-and-creds/storage-options\n",
    "    - https://docs.activeloop.ai/setup/storage-and-creds/managed-credentials\n",
    "- **EXAMPLES**\n",
    "  - **Deep Learning** https://docs.activeloop.ai/examples/dl\n",
    "    - https://docs.activeloop.ai/examples/dl/quickstart\n",
    "    - https://docs.activeloop.ai/examples/dl/guide\n",
    "    - https://docs.activeloop.ai/examples/dl/tutorials\n",
    "    - https://docs.activeloop.ai/examples/dl/playbooks\n",
    "    - https://docs.activeloop.ai/examples/dl/dataloaders\n",
    "    - https://docs.activeloop.ai/examples/dl/api\n",
    "  - **RAG** https://docs.activeloop.ai/examples/rag\n",
    "    - https://docs.activeloop.ai/examples/rag/quickstart\n",
    "    - https://docs.activeloop.ai/examples/rag/tutorials\n",
    "    - https://docs.activeloop.ai/examples/rag/langchain-integration\n",
    "    - https://docs.activeloop.ai/examples/rag/llamaindex-integration\n",
    "    - https://docs.activeloop.ai/examples/rag/managed-database\n",
    "    - https://docs.activeloop.ai/examples/rag/deep-memory\n",
    "  - **Tensor Query Language (TQL)** https://docs.activeloop.ai/examples/tql\n",
    "    - https://docs.activeloop.ai/examples/tql/syntax\n",
    "    - https://docs.activeloop.ai/examples/tql/ann-index\n",
    "    - https://docs.activeloop.ai/examples/tql/sampling\n",
    "- **TECHNICAL DETAILS**\n",
    "  - **Best Practices** https://docs.activeloop.ai/technical-details/best-practices\n",
    "    - https://docs.activeloop.ai/technical-details/best-practices/creating-datasets-at-scale\n",
    "    - https://docs.activeloop.ai/technical-details/best-practices/training-models-at-scale\n",
    "    - https://docs.activeloop.ai/technical-details/best-practices/storage-synchronization\n",
    "    - https://docs.activeloop.ai/technical-details/best-practices/restoring-corrupted-datasets\n",
    "    - https://docs.activeloop.ai/technical-details/best-practices/concurrent-writes\n",
    "  - **Deep Lake Data Format** https://docs.activeloop.ai/technical-details/data-format\n",
    "    - https://docs.activeloop.ai/technical-details/data-format/tensor-relationships\n",
    "    - https://docs.activeloop.ai/technical-details/data-format/version-control-and-querying\n",
    "  - **Dataset Visualization** https://docs.activeloop.ai/technical-details/visualization\n",
    "    - https://docs.activeloop.ai/technical-details/visualization/visualizer-integration\n",
    "  - **Shuffling in Dataloaders** https://docs.activeloop.ai/technical-details/shuffling\n",
    "  - **How to Contribute** https://docs.activeloop.ai/technical-details/how-to-contribute"
   ]
  },
  {
   "cell_type": "markdown",
   "id": "8f70e9d4-8917-4c74-9db5-5c8973a3883e",
   "metadata": {},
   "source": [
    "## Deep Lake as Vector Store for LLM Applications\n",
    "https://docs.activeloop.ai/examples/rag"
   ]
  },
  {
   "cell_type": "markdown",
   "id": "dc40472d-ef95-4763-aed3-1ad5df6fcd18",
   "metadata": {
    "jp-MarkdownHeadingCollapsed": true
   },
   "source": [
    "## Deep Lake Vector Store API\n",
    "https://docs.activeloop.ai/examples/rag/tutorials/vector-search-options/vector-store-api"
   ]
  },
  {
   "cell_type": "markdown",
   "id": "fc3e545f-c920-4d3f-a8b7-73813904e3b2",
   "metadata": {},
   "source": [
    "## LangChain Integration\n",
    "https://docs.activeloop.ai/examples/rag/langchain-integration"
   ]
  },
  {
   "cell_type": "markdown",
   "id": "6b4ef58c-3caf-4a3d-9069-d066818d7d4d",
   "metadata": {},
   "source": [
    "## Deep Lake 3.9.26 documentation\n",
    "https://docs.deeplake.ai/3.9/"
   ]
  },
  {
   "cell_type": "markdown",
   "id": "6eef766a-8be9-4da1-ad71-1f328f76397f",
   "metadata": {},
   "source": [
    "## Free Generative AI & Large Language Models Courses\n",
    "https://learn.activeloop.ai/"
   ]
  },
  {
   "cell_type": "markdown",
   "id": "179f5869-b222-45c7-a8e1-80fe62b81808",
   "metadata": {
    "jp-MarkdownHeadingCollapsed": true
   },
   "source": [
    "## Deep Lake Docs (4.1) `Multi-Modal AI Database`\n",
    "https://docs.deeplake.ai/4.1/"
   ]
  },
  {
   "cell_type": "markdown",
   "id": "3df10828-96c4-4606-ba6f-6a5aa4bf6709",
   "metadata": {},
   "source": [
    "## deeplake 4.1.12 (PyPI)\n",
    "https://pypi.org/project/deeplake/"
   ]
  },
  {
   "cell_type": "markdown",
   "id": "033d0716-3163-4477-88cb-8281bafa74f4",
   "metadata": {},
   "source": [
    "## langchain-deeplake 0.1.0 (PyPI)\n",
    "https://pypi.org/project/langchain-deeplake/"
   ]
  }
 ],
 "metadata": {
  "kernelspec": {
   "display_name": "Python 3 (ipykernel)",
   "language": "python",
   "name": "python3"
  },
  "language_info": {
   "codemirror_mode": {
    "name": "ipython",
    "version": 3
   },
   "file_extension": ".py",
   "mimetype": "text/x-python",
   "name": "python",
   "nbconvert_exporter": "python",
   "pygments_lexer": "ipython3",
   "version": "3.11.4"
  }
 },
 "nbformat": 4,
 "nbformat_minor": 5
}
