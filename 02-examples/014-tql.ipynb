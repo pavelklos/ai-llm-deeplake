{
 "cells": [
  {
   "cell_type": "markdown",
   "id": "93495a2e-3e04-4cb8-81d7-a00f9dc0b4f4",
   "metadata": {},
   "source": [
    "# EXAMPLES (TQL)\n",
    "- [**Tensor Query Language (TQL)**](https://docs.activeloop.ai/examples/tql)\n",
    "  - [TQL Syntax](https://docs.activeloop.ai/examples/tql/syntax)\n",
    "  - [Index for ANN Search](https://docs.activeloop.ai/examples/tql/ann-index)\n",
    "    - [Caching and Optimization](https://docs.activeloop.ai/examples/tql/ann-index/caching-and-optimization)\n",
    "  - [Sampling Datasets](https://docs.activeloop.ai/examples/tql/sampling)"
   ]
  },
  {
   "cell_type": "markdown",
   "id": "f9134e12-66df-4b48-915d-a3b9f5e1c550",
   "metadata": {},
   "source": [
    "## Tensor Query Language (TQL)"
   ]
  },
  {
   "cell_type": "markdown",
   "id": "67092126-69f3-4b4b-900e-30b6c641d0b2",
   "metadata": {},
   "source": [
    "### Query Using  Deep Lake Tensor Query Language (TQL)\n",
    "*Querying enables users to filter data, gather insights, and focus their work on the most relevant data. Deep Lake offers a highly-performant query engine built in C++ and optimized for the Deep Lake data format.*<br>\n",
    "**The Deep Lake query engine is only accessible to registered and authenticated users and cannot be used with local datasets.**"
   ]
  },
  {
   "cell_type": "markdown",
   "id": "a1c331f0-1038-48d0-b376-0c6abe1ca66b",
   "metadata": {},
   "source": [
    "#### Dataset Query Summary"
   ]
  },
  {
   "cell_type": "markdown",
   "id": "8d75dceb-3269-46a3-b3e0-37d0310acedc",
   "metadata": {},
   "source": [
    "##### [Querying in the App](https://docs.activeloop.ai/examples/tql#querying-in-the-app)"
   ]
  },
  {
   "cell_type": "markdown",
   "id": "c570ca96-868f-4020-bfd0-c8b6a0bd2fc1",
   "metadata": {},
   "source": [
    "##### Querying in the Vector Store Python API"
   ]
  },
  {
   "cell_type": "code",
   "execution_count": null,
   "id": "f44bc453-1d36-4161-82de-464ea37fbd0c",
   "metadata": {},
   "outputs": [],
   "source": [
    "# view = vector_store.search(query = <query_string>)"
   ]
  },
  {
   "cell_type": "markdown",
   "id": "0812566f-16d2-4a6e-aa0c-45259fefcf5a",
   "metadata": {},
   "source": [
    "##### Querying in the Deep Learning Python API"
   ]
  },
  {
   "cell_type": "code",
   "execution_count": null,
   "id": "1176ab7e-0f56-49a6-89ba-a978125344d8",
   "metadata": {},
   "outputs": [],
   "source": [
    "# Queries can also be performed in the Python API using"
   ]
  },
  {
   "cell_type": "code",
   "execution_count": null,
   "id": "0c91a72f-2656-4017-baee-1fb9154e1878",
   "metadata": {},
   "outputs": [],
   "source": [
    "# view = ds.query(<query_string>)"
   ]
  },
  {
   "cell_type": "markdown",
   "id": "f5ffa17b-69f1-417b-9cf4-12ec518f664a",
   "metadata": {},
   "source": [
    "#### Query Syntax\n",
    "[TQL Syntax](https://docs.activeloop.ai/examples/tql/syntax)"
   ]
  },
  {
   "cell_type": "markdown",
   "id": "4923da24-f9a1-4cad-8e00-3ef896a6feb6",
   "metadata": {},
   "source": [
    "#### Saving and Using Views In Deep Lake\n",
    "*The query results (Dataset Views) can be saved in the UI as shown above, or if the view is generated in Python, it can be saved using the Python API below.*<br>\n",
    "[Dataset Filtering](https://docs.activeloop.ai/examples/dl/guide/dataset-filtering)"
   ]
  },
  {
   "cell_type": "code",
   "execution_count": null,
   "id": "cfcf92db-a911-428a-84c8-eee52b37cf1f",
   "metadata": {},
   "outputs": [],
   "source": [
    "# view.save_view(message = 'Samples with monarchs')"
   ]
  },
  {
   "cell_type": "code",
   "execution_count": null,
   "id": "55d766dd-d7bd-46a0-b2c0-ed0ab6b39c40",
   "metadata": {},
   "outputs": [],
   "source": [
    "# In order to maintain data lineage, Dataset Views are immutable and are connected to specific commits.\n",
    "# Therefore, views can only be saved if the dataset has a commit and there are no uncommitted changes in the HEAD.\n",
    "# You can check for this using:\n",
    "\n",
    "# ds.has_head_changes"
   ]
  },
  {
   "cell_type": "code",
   "execution_count": null,
   "id": "a59bd446-853d-450a-9777-373fa8f44bb5",
   "metadata": {},
   "outputs": [],
   "source": [
    "# Dataset Views can be loaded in the python API and they can passed to ML frameworks just like regular datasets:\n",
    "\n",
    "# ds_view = ds.load_view(view_id, optimize = True, num_workers = 2)\n",
    "\n",
    "# for data in ds_view.pytorch():\n",
    "#     # Training loop here"
   ]
  },
  {
   "cell_type": "code",
   "execution_count": null,
   "id": "fb0bf7ef-1b0c-4c35-85e7-a8881fe0d8d3",
   "metadata": {},
   "outputs": [],
   "source": [
    "# The optimize parameter in ds.load_view(..., optimize = True) materializes the Dataset View into a new sub-dataset that\n",
    "#   is optimized for streaming. If the original dataset uses linked tensors, the data will be copied to Deep Lake format.\n",
    "# Optimizing the Dataset View is critical for achieving rapid streaming."
   ]
  },
  {
   "cell_type": "code",
   "execution_count": null,
   "id": "97657e21-fc93-4c0a-94b7-d47401e11d62",
   "metadata": {},
   "outputs": [],
   "source": [
    "# If the saved Dataset View is no longer needed, it can be deleted using:\n",
    "\n",
    "# ds.delete_view(view_id)"
   ]
  }
 ],
 "metadata": {
  "kernelspec": {
   "display_name": "Python 3 (ipykernel)",
   "language": "python",
   "name": "python3"
  },
  "language_info": {
   "codemirror_mode": {
    "name": "ipython",
    "version": 3
   },
   "file_extension": ".py",
   "mimetype": "text/x-python",
   "name": "python",
   "nbconvert_exporter": "python",
   "pygments_lexer": "ipython3",
   "version": "3.11.4"
  }
 },
 "nbformat": 4,
 "nbformat_minor": 5
}
